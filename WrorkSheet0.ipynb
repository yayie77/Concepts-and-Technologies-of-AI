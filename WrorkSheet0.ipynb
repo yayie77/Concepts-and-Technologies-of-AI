{
 "cells": [
  {
   "cell_type": "markdown",
   "id": "61e99eee-5820-4848-81d8-e7dd2924e0d1",
   "metadata": {},
   "source": [
    "5CS037 - Worksheet 0: Python Essentials for Machine Learning\n",
    "\n",
    "Task 1: Classify Temperatures\n",
    "\n",
    "Create empty lists for temperature classifications:\n",
    "\n",
    "\n",
    "Cold: temperatures below 10°C.\n",
    "\n",
    "Mild: temperatures between 10°C and 15°C.\n",
    "\n",
    "Comfortable: temperatures between 15°C and 20°C.\n",
    "\n",
    "Iterate over the temperatures list and classify.\n",
    "\n",
    "\n",
    "Print the lists to verify the classifications.\n"
   ]
  },
  {
   "cell_type": "code",
   "execution_count": 52,
   "id": "c0e1a770-e45a-4af6-8313-1d0f543e2a73",
   "metadata": {},
   "outputs": [
    {
     "name": "stdout",
     "output_type": "stream",
     "text": [
      "Cold temperatures: [8.2, 7.9, 9.0, 8.5, 7.7, 8.4, 9.5, 8.1, 7.6, 8.0, 7.8, 8.7, 9.2, 8.3, 8.9, 7.8]\n",
      "Mild temperatures: [14.1, 13.5, 13.0, 12.9, 13.3, 14.0, 13.4, 14.2, 12.8, 13.7, 13.6, 13.8, 13.9, 12.7, 13.1, 12.5]\n",
      "Comfortable temperatures: [17.4, 18.0, 17.8, 16.5, 17.2, 16.7, 18.3, 17.9, 17.0, 16.8, 17.5, 17.1, 18.1, 16.4, 18.2, 16.6]\n"
     ]
    }
   ],
   "source": [
    "# Temperature data from Tribhuwan International Airport\n",
    "temperatures = [\n",
    "    8.2, 17.4, 14.1, 7.9, 18.0, 13.5, 9.0, 17.8, 13.0, 8.5,\n",
    "    16.5, 12.9, 7.7, 17.2, 13.3, 8.4, 16.7, 14.0, 9.5, 18.3,\n",
    "    13.4, 8.1, 17.9, 14.2, 7.6, 17.0, 12.8, 8.0, 16.8, 13.7,\n",
    "    7.8, 17.5, 13.6, 8.7, 17.1, 13.8, 9.2, 18.1, 13.9, 8.3,\n",
    "    16.4, 12.7, 8.9, 18.2, 13.1, 7.8, 16.6, 12.5\n",
    "\n",
    "]\n",
    "\n",
    "# Initialize empty lists for classifications\n",
    "cold = []\n",
    "mild = []\n",
    "comfortable = []\n",
    "\n",
    "# Classify temperatures\n",
    "for temp in temperatures:\n",
    "    if temp < 10:\n",
    "        cold.append(temp)\n",
    "    elif 10 <= temp < 15:\n",
    "        mild.append(temp)\n",
    "    elif 15 <= temp < 20:\n",
    "        comfortable.append(temp)\n",
    "\n",
    "# Print the classifications\n",
    "print(\"Cold temperatures:\", cold)\n",
    "\n",
    "print(\"Mild temperatures:\", mild)\n",
    "print(\"Comfortable temperatures:\", comfortable)\n"
   ]
  },
  {
   "cell_type": "markdown",
   "id": "012d4170-1a6f-4f6d-8939-db7b6f20f120",
   "metadata": {},
   "source": [
    "\n",
    "\n"
   ]
  },
  {
   "cell_type": "markdown",
   "id": "33552c23-f751-42ec-8e25-27bd25febb63",
   "metadata": {},
   "source": [
    "Task 2: Count Classifications\n",
    "\n",
    "Count the number of items in each classification."
   ]
  },
  {
   "cell_type": "code",
   "execution_count": 42,
   "id": "4aa7f8b9-eec1-4223-b928-3f784b730fc3",
   "metadata": {},
   "outputs": [
    {
     "name": "stdout",
     "output_type": "stream",
     "text": [
      "Number of cold days: 16\n",
      "Number of mild days: 16\n",
      "Number of comfortable days: 16\n"
     ]
    }
   ],
   "source": [
    "# Count the classifications\n",
    "cold_count = len(cold)\n",
    "mild_count = len(mild)\n",
    "comfortable_count = len(comfortable)\n",
    "\n",
    "print(\"Number of cold days:\", cold_count)\n",
    "print(\"Number of mild days:\", mild_count)\n",
    "print(\"Number of comfortable days:\", comfortable_count)\n"
   ]
  },
  {
   "cell_type": "code",
   "execution_count": null,
   "id": "b4f0e126-3b5e-430f-a40f-b8a9e95ee499",
   "metadata": {},
   "outputs": [],
   "source": [
    "\n"
   ]
  },
  {
   "cell_type": "markdown",
   "id": "31ac36e0-ab8f-4882-a73d-735e54eacb78",
   "metadata": {},
   "source": [
    "Task 3: Convert Temperatures from Celsius to Fahrenheit\n",
    "\n",
    "Convert each reading from Celsius to Fahrenheit.\n",
    "\n",
    "Store the results in a new list.\n",
    "\n",
    "Print the converted Fahrenheit values.\n"
   ]
  },
  {
   "cell_type": "code",
   "execution_count": 10,
   "id": "d31f99bc-5977-4a58-86eb-215cce6d5d65",
   "metadata": {},
   "outputs": [
    {
     "name": "stdout",
     "output_type": "stream",
     "text": [
      "Temperatures in Fahrenheit: [46.76, 63.32, 57.379999999999995, 46.22, 64.4, 56.3, 48.2, 64.04, 55.4, 47.3, 61.7, 55.22, 45.86, 62.959999999999994, 55.94, 47.120000000000005, 62.059999999999995, 57.2, 49.1, 64.94, 56.120000000000005, 46.58, 64.22, 57.56, 45.68, 62.6, 55.04, 46.4, 62.24, 56.66, 46.04, 63.5, 56.48, 47.66, 62.78, 56.84, 48.56, 64.58, 57.02, 46.94, 61.519999999999996, 54.86, 48.02, 64.75999999999999, 55.58, 46.04, 61.88, 54.5]\n"
     ]
    }
   ],
   "source": [
    "# Convert Celsius to Fahrenheit\n",
    "temperatures_fahrenheit = []\n",
    "for temp in temperatures:\n",
    "    fahrenheit = (temp * 9/5) + 32\n",
    "    temperatures_fahrenheit.append(fahrenheit)\n",
    "\n",
    "# Print the converted values\n",
    "print(\"Temperatures in Fahrenheit:\", temperatures_fahrenheit)\n"
   ]
  },
  {
   "cell_type": "markdown",
   "id": "482ad0ab-965d-43db-acfb-be24b2e2b2e8",
   "metadata": {},
   "source": [
    "\n"
   ]
  },
  {
   "cell_type": "markdown",
   "id": "d598c60f-efd6-4d13-b215-10a8af8b67ce",
   "metadata": {},
   "source": [
    "Task 4: Analyze Temperature Patterns by Time of Day\n",
    "\n",
    "Create empty lists for night, evening, and day temperatures.\n",
    "\n",
    "Iterate over the temperatures list, assigning values to each time-of-day list based on their position.\n",
    "\n",
    "Calculate and print the average daytime temperature.\n"
   ]
  },
  {
   "cell_type": "code",
   "execution_count": 13,
   "id": "217a2b93-d363-45db-9447-9c0e4c150fb1",
   "metadata": {},
   "outputs": [
    {
     "name": "stdout",
     "output_type": "stream",
     "text": [
      "Night temperatures: [8.2, 7.9, 9.0, 8.5, 7.7, 8.4, 9.5, 8.1, 7.6, 8.0, 7.8, 8.7, 9.2, 8.3, 8.9, 7.8]\n",
      "Evening temperatures: [17.4, 18.0, 17.8, 16.5, 17.2, 16.7, 18.3, 17.9, 17.0, 16.8, 17.5, 17.1, 18.1, 16.4, 18.2, 16.6]\n",
      "Day temperatures: [14.1, 13.5, 13.0, 12.9, 13.3, 14.0, 13.4, 14.2, 12.8, 13.7, 13.6, 13.8, 13.9, 12.7, 13.1, 12.5]\n",
      "Average daytime temperature: 13.40625\n"
     ]
    }
   ],
   "source": [
    "# Initialize lists for different times of day\n",
    "night = []\n",
    "evening = []\n",
    "day = []\n",
    "\n",
    "# Assign values based on their positions\n",
    "for i in range(len(temperatures)):\n",
    "    if i % 3 == 0:  # Night\n",
    "        night.append(temperatures[i])\n",
    "    elif i % 3 == 1:  # Evening\n",
    "        evening.append(temperatures[i])\n",
    "    else:  # Day\n",
    "        day.append(temperatures[i])\n",
    "\n",
    "# Calculate average daytime temperature\n",
    "average_day_temp = sum(day) / len(day) if day else 0\n",
    "\n",
    "# Print results\n",
    "print(\"Night temperatures:\", night)\n",
    "print(\"Evening temperatures:\", evening)\n",
    "print(\"Day temperatures:\", day)\n",
    "print(\"Average daytime temperature:\", average_day_temp)\n"
   ]
  },
  {
   "cell_type": "markdown",
   "id": "1bb926f1-98a0-4094-b348-0080c0ec2a1f",
   "metadata": {},
   "source": [
    "\n",
    "\n"
   ]
  },
  {
   "cell_type": "markdown",
   "id": "0b799a93-e443-4111-99d1-ffdf9a48bdfc",
   "metadata": {},
   "source": [
    "6. Recursion and Dynamic Programming\n",
    "   \n",
    "Task 1 - Sum of Nested Lists\n",
    "\n",
    "Write a recursive function sum_nested_list(nested_list) that sums all numbers in a nested list."
   ]
  },
  {
   "cell_type": "code",
   "execution_count": 18,
   "id": "36e87a4b-ba00-438e-8fc1-754895f194ed",
   "metadata": {},
   "outputs": [
    {
     "name": "stdout",
     "output_type": "stream",
     "text": [
      "Sum of nested list: 36\n"
     ]
    }
   ],
   "source": [
    "def sum_nested_list(nested_list):\n",
    "    \"\"\"\n",
    "    Calculate the sum of all numbers in a nested list.\n",
    "    \"\"\"\n",
    "    total = 0\n",
    "    for element in nested_list:\n",
    "        if isinstance(element, list):\n",
    "            total += sum_nested_list(element)  # Recursively sum the nested list\n",
    "        else:\n",
    "            total += element  # Add the number to the total\n",
    "    return total\n",
    "\n",
    "# Test the function with a sample nested list\n",
    "nested_list = [1, [2, [3, 4], 5], 6, [7, 8]]\n",
    "print(\"Sum of nested list:\", sum_nested_list(nested_list))\n"
   ]
  },
  {
   "cell_type": "markdown",
   "id": "62575f92-bf25-4671-8841-c00081e5ac7e",
   "metadata": {},
   "source": [
    "\n",
    "\n"
   ]
  },
  {
   "cell_type": "markdown",
   "id": "1fe9162f-c31f-44ce-a477-579bea4372c8",
   "metadata": {},
   "source": [
    "Task 2 - Generate All Permutations of a String\n",
    "\n",
    "Write a recursive function generate_permutations(s) that returns all unique permutations."
   ]
  },
  {
   "cell_type": "code",
   "execution_count": 21,
   "id": "9621d303-07a8-415d-905a-77a4459f059b",
   "metadata": {},
   "outputs": [
    {
     "name": "stdout",
     "output_type": "stream",
     "text": [
      "['abc', 'cab', 'cba', 'bac', 'bca', 'acb']\n",
      "['aba', 'baa', 'aab']\n"
     ]
    }
   ],
   "source": [
    "def generate_permutations(s):\n",
    "    \"\"\"\n",
    "    Generate all unique permutations of a string.\n",
    "    \"\"\"\n",
    "    if len(s) == 1:\n",
    "        return [s]\n",
    "    \n",
    "    permutations = []\n",
    "    for i, char in enumerate(s):\n",
    "        for perm in generate_permutations(s[:i] + s[i+1:]):\n",
    "            permutations.append(char + perm)\n",
    "    \n",
    "    return list(set(permutations))  # Return unique permutations\n",
    "\n",
    "# Test the function\n",
    "print(generate_permutations(\"abc\"))\n",
    "print(generate_permutations(\"aab\"))\n",
    "\n"
   ]
  },
  {
   "cell_type": "markdown",
   "id": "2bc4cb49-82ca-44b5-800f-fc66f6fcdb25",
   "metadata": {},
   "source": [
    "\n",
    "\n"
   ]
  },
  {
   "cell_type": "markdown",
   "id": "56fb8467-fd54-48d5-bfc5-23bb85db3e1e",
   "metadata": {},
   "source": [
    "Task 3 - Directory Size Calculation\n",
    "\n",
    "Write a recursive function calculate_directory_size(directory) to calculate the total size of a directory."
   ]
  },
  {
   "cell_type": "code",
   "execution_count": 25,
   "id": "135bbfbd-2bc3-442a-87fd-bc5a0a324dbd",
   "metadata": {},
   "outputs": [
    {
     "name": "stdout",
     "output_type": "stream",
     "text": [
      "Total directory size: 1400\n"
     ]
    }
   ],
   "source": [
    "def calculate_directory_size(directory):\n",
    "    \"\"\"\n",
    "    Calculate the total size of a directory including all nested subdirectories.\n",
    "    \"\"\"\n",
    "    total_size = 0\n",
    "    for key, value in directory.items():\n",
    "        if isinstance(value, dict):  # If it's a subdirectory\n",
    "            total_size += calculate_directory_size(value)  # Recursive call\n",
    "        else:\n",
    "            total_size += value  # Add file size\n",
    "    return total_size\n",
    "\n",
    "# Sample directory structure\n",
    "directory_structure = {\n",
    "    \"file1.txt\": 200,\n",
    "    \"file2.txt\": 300,\n",
    "    \"subdir1\": {\n",
    "        \"file3.txt\": 400,\n",
    "        \"file4.txt\": 100\n",
    "    },\n",
    "    \"subdir2\": {\n",
    "        \"subsubdir1\": {\n",
    "            \"file5.txt\": 250\n",
    "        },\n",
    "        \"file6.txt\": 150\n",
    "    }\n",
    "}\n",
    "\n",
    "# Test the function\n",
    "print(\"Total directory size:\", calculate_directory_size(directory_structure))\n"
   ]
  },
  {
   "cell_type": "markdown",
   "id": "ad609bfd-febc-45a5-a42e-666429d722ad",
   "metadata": {},
   "source": [
    "\n",
    "\n"
   ]
  },
  {
   "cell_type": "markdown",
   "id": "9fcf68fb-abe7-4c85-9d5e-62ac1c1736ea",
   "metadata": {},
   "source": [
    "8. Dynamic Programming Tasks\n",
    "   \n",
    "Task 1 - Coin Change Problem\n",
    "\n",
    "Write a function min_coins(coins, amount) using DP to calculate the minimum number of coins needed.\n"
   ]
  },
  {
   "cell_type": "code",
   "execution_count": 28,
   "id": "0e597ff2-6add-40d8-856e-e6d0d68587fe",
   "metadata": {},
   "outputs": [
    {
     "name": "stdout",
     "output_type": "stream",
     "text": [
      "3\n"
     ]
    }
   ],
   "source": [
    "def min_coins(coins, amount):\n",
    "    \"\"\"\n",
    "    Find the minimum number of coins needed to make up a given amount.\n",
    "    \"\"\"\n",
    "    dp = [float('inf')] * (amount + 1)\n",
    "    dp[0] = 0  # Base case\n",
    "\n",
    "    for coin in coins:\n",
    "        for i in range(coin, amount + 1):\n",
    "            dp[i] = min(dp[i], dp[i - coin] + 1)\n",
    "\n",
    "    return dp[amount] if dp[amount] != float('inf') else -1\n",
    "\n",
    "# Test the function\n",
    "print(min_coins([1, 2, 5], 11))  # Should return 3\n"
   ]
  },
  {
   "cell_type": "markdown",
   "id": "68065f6c-51ad-4302-a04c-db8a03491df8",
   "metadata": {},
   "source": [
    "\n",
    "\n"
   ]
  },
  {
   "attachments": {},
   "cell_type": "markdown",
   "id": "9826e671-e2b6-4fb2-a52b-fe1c7be76675",
   "metadata": {},
   "source": [
    "Task 2 - Longest Common Subsequence (LCS)\n",
    "\n",
    "Write a function longest_common_subsequence(s1, s2) using DP to find the length of the LCS."
   ]
  },
  {
   "cell_type": "code",
   "execution_count": 31,
   "id": "83a433c1-f247-4a90-856b-b4cdb1bdb838",
   "metadata": {},
   "outputs": [
    {
     "name": "stdout",
     "output_type": "stream",
     "text": [
      "3\n"
     ]
    }
   ],
   "source": [
    "def longest_common_subsequence(s1, s2):\n",
    "    \"\"\"\n",
    "    Find the length of the longest common subsequence of two strings.\n",
    "    \"\"\"\n",
    "    dp = [[0] * (len(s2) + 1) for _ in range(len(s1) + 1)]\n",
    "\n",
    "    for i in range(1, len(s1) + 1):\n",
    "        for j in range(1, len(s2) + 1):\n",
    "            if s1[i - 1] == s2[j - 1]:\n",
    "                dp[i][j] = dp[i - 1][j - 1] + 1\n",
    "            else:\n",
    "                dp[i][j] = max(dp[i - 1][j], dp[i][j - 1])\n",
    "\n",
    "    return dp[len(s1)][len(s2)]\n",
    "\n",
    "# Test the function\n",
    "print(longest_common_subsequence(\"abcde\", \"ace\"))  # Should return 3\n"
   ]
  },
  {
   "cell_type": "markdown",
   "id": "38d3a87d-5b49-4be7-98d7-b91219ccaa66",
   "metadata": {},
   "source": [
    "\n",
    "\n"
   ]
  },
  {
   "cell_type": "markdown",
   "id": "de07f7f7-300f-4310-825c-4c654b7cf105",
   "metadata": {},
   "source": [
    "Task 3 - 0/1 Knapsack Problem\n",
    "\n",
    "Write a function knapsack(weights, values, capacity) using DP to determine the maximum value."
   ]
  },
  {
   "cell_type": "code",
   "execution_count": 36,
   "id": "e3a3b50a-0df5-47d5-878a-4ba15f227245",
   "metadata": {},
   "outputs": [
    {
     "name": "stdout",
     "output_type": "stream",
     "text": [
      "9\n"
     ]
    }
   ],
   "source": [
    "def knapsack(weights, values, capacity):\n",
    "    \"\"\"\n",
    "    Determine the maximum value that can be achieved within the given weight capacity.\n",
    "    \"\"\"\n",
    "    n = len(values)\n",
    "    dp = [[0] * (capacity + 1) for _ in range(n + 1)]\n",
    "\n",
    "    for i in range(1, n + 1):\n",
    "        for w in range(capacity + 1):\n",
    "            if weights[i - 1] <= w:\n",
    "                dp[i][w] = max(dp[i - 1][w], dp[i - 1][w - weights[i - 1]] + values[i - 1])\n",
    "            else:\n",
    "                dp[i][w] = dp[i - 1][w]\n",
    "\n",
    "    return dp[n][capacity]\n",
    "\n",
    "# Test the function\n",
    "print(knapsack([1, 3, 4, 5], [1, 4, 5, 7], 7))  # Should return 9\n"
   ]
  },
  {
   "cell_type": "code",
   "execution_count": null,
   "id": "c2830a2f-8580-45ad-9c9e-60421db59b1c",
   "metadata": {},
   "outputs": [],
   "source": []
  }
 ],
 "metadata": {
  "kernelspec": {
   "display_name": "Python 3 (ipykernel)",
   "language": "python",
   "name": "python3"
  },
  "language_info": {
   "codemirror_mode": {
    "name": "ipython",
    "version": 3
   },
   "file_extension": ".py",
   "mimetype": "text/x-python",
   "name": "python",
   "nbconvert_exporter": "python",
   "pygments_lexer": "ipython3",
   "version": "3.12.7"
  }
 },
 "nbformat": 4,
 "nbformat_minor": 5
}
