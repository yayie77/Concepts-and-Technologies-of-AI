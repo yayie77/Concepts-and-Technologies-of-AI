{
  "nbformat": 4,
  "nbformat_minor": 0,
  "metadata": {
    "colab": {
      "provenance": []
    },
    "kernelspec": {
      "name": "python3",
      "display_name": "Python 3"
    },
    "language_info": {
      "name": "python"
    }
  },
  "cells": [
    {
      "cell_type": "code",
      "execution_count": null,
      "metadata": {
        "id": "wMmmULwOQYpv"
      },
      "outputs": [],
      "source": []
    },
    {
      "cell_type": "markdown",
      "source": [
        "1. Initialize an empty array with size 2X2."
      ],
      "metadata": {
        "id": "Re3t8IzQQZu-"
      }
    },
    {
      "cell_type": "code",
      "source": [
        "# Initialize a 2x2 array\n",
        "array = [[0, 0], [0, 0]]  # Optionally, you can initialize with zeros\n",
        "\n",
        "# Print the array to verify initialization\n",
        "for row in array:\n",
        "    print(row)\n"
      ],
      "metadata": {
        "colab": {
          "base_uri": "https://localhost:8080/"
        },
        "id": "isdSuPnTQeaM",
        "outputId": "e34479c9-ae6e-4e14-958d-359f41dba386"
      },
      "execution_count": null,
      "outputs": [
        {
          "output_type": "stream",
          "name": "stdout",
          "text": [
            "[0, 0]\n",
            "[0, 0]\n"
          ]
        }
      ]
    },
    {
      "cell_type": "markdown",
      "source": [
        "2. Initialize an all one array with size 4X2."
      ],
      "metadata": {
        "id": "x_f2EWXRQrJy"
      }
    },
    {
      "cell_type": "code",
      "source": [
        "import numpy as np\n",
        "\n",
        "# Initialize a 4x2 array filled with ones\n",
        "array = np.ones((4, 2))\n",
        "\n",
        "# Print the array to verify initialization\n",
        "print(array)\n"
      ],
      "metadata": {
        "colab": {
          "base_uri": "https://localhost:8080/"
        },
        "id": "2RD2h1GTQ03b",
        "outputId": "aa3c8c79-5189-4794-85f0-afcab428ffff"
      },
      "execution_count": null,
      "outputs": [
        {
          "output_type": "stream",
          "name": "stdout",
          "text": [
            "[[1. 1.]\n",
            " [1. 1.]\n",
            " [1. 1.]\n",
            " [1. 1.]]\n"
          ]
        }
      ]
    },
    {
      "cell_type": "markdown",
      "source": [
        "3. Return a new array of given shape and type, filled with fill value.{Hint: np.full}"
      ],
      "metadata": {
        "id": "8eWjY5EwR27e"
      }
    },
    {
      "cell_type": "code",
      "source": [
        "shape = (3, 3)  # Example shape\n",
        "fill_value = 7  # Example fill value\n",
        "filled_array = np.full(shape, fill_value)\n",
        "print(filled_array)\n",
        "\n"
      ],
      "metadata": {
        "id": "LDvymAOkR3_2",
        "colab": {
          "base_uri": "https://localhost:8080/"
        },
        "outputId": "c3a9eae8-8dba-4db6-aec4-b7e47a6bfba5"
      },
      "execution_count": null,
      "outputs": [
        {
          "output_type": "stream",
          "name": "stdout",
          "text": [
            "[[7 7 7]\n",
            " [7 7 7]\n",
            " [7 7 7]]\n"
          ]
        }
      ]
    },
    {
      "cell_type": "code",
      "source": [
        "existing_array = np.array([[1, 2], [3, 4]])  # Example existing array\n",
        "zeros_like_array = np.zeros_like(existing_array)\n",
        "print(zeros_like_array)\n"
      ],
      "metadata": {
        "id": "lFdbnj4NSEDv",
        "colab": {
          "base_uri": "https://localhost:8080/"
        },
        "outputId": "e5bb60ac-d503-4ee8-babc-0a4043c8fd5b"
      },
      "execution_count": null,
      "outputs": [
        {
          "output_type": "stream",
          "name": "stdout",
          "text": [
            "[[0 0]\n",
            " [0 0]]\n"
          ]
        }
      ]
    },
    {
      "cell_type": "markdown",
      "source": [
        "5. Return a new array of ones with the same shape and type as a given array"
      ],
      "metadata": {
        "id": "tbiz88ac7QPR"
      }
    },
    {
      "cell_type": "code",
      "source": [
        "ones_like_array = np.ones_like(existing_array)\n",
        "print(ones_like_array)\n"
      ],
      "metadata": {
        "colab": {
          "base_uri": "https://localhost:8080/"
        },
        "id": "DG44cVrk7U25",
        "outputId": "7ae526c3-a9bb-4594-92c0-0ffdd583fb2e"
      },
      "execution_count": null,
      "outputs": [
        {
          "output_type": "stream",
          "name": "stdout",
          "text": [
            "[[1 1]\n",
            " [1 1]]\n"
          ]
        }
      ]
    },
    {
      "cell_type": "markdown",
      "source": [
        "6. Convert an existing list to a NumPy array"
      ],
      "metadata": {
        "id": "-ET3qd6S7c9_"
      }
    },
    {
      "cell_type": "code",
      "source": [
        "new_list = [1, 2, 3, 4]\n",
        "numpy_array = np.array(new_list)\n",
        "print(numpy_array)\n"
      ],
      "metadata": {
        "colab": {
          "base_uri": "https://localhost:8080/"
        },
        "id": "XS0rauli7dvS",
        "outputId": "bd51ed0a-0026-4107-cedc-33af8b8d35e8"
      },
      "execution_count": null,
      "outputs": [
        {
          "output_type": "stream",
          "name": "stdout",
          "text": [
            "[1 2 3 4]\n"
          ]
        }
      ]
    },
    {
      "cell_type": "markdown",
      "source": [
        "4.1.1 Problem - 2: Array Manipulation: Numerical Ranges and Array indexing:\n",
        "Complete the following tasks:\n",
        "1. Create an array with values ranging from 10 to 49. {Hint:np.arrange()}."
      ],
      "metadata": {
        "id": "psn1mf_X7oHt"
      }
    },
    {
      "cell_type": "code",
      "source": [
        "import numpy as np\n",
        "\n",
        "array_range = np.arange(10, 50)\n",
        "print(array_range)\n"
      ],
      "metadata": {
        "colab": {
          "base_uri": "https://localhost:8080/"
        },
        "id": "28CSy0TV7o2H",
        "outputId": "38520b23-9133-4ace-9847-5a50a8de0d71"
      },
      "execution_count": null,
      "outputs": [
        {
          "output_type": "stream",
          "name": "stdout",
          "text": [
            "[10 11 12 13 14 15 16 17 18 19 20 21 22 23 24 25 26 27 28 29 30 31 32 33\n",
            " 34 35 36 37 38 39 40 41 42 43 44 45 46 47 48 49]\n"
          ]
        }
      ]
    },
    {
      "cell_type": "markdown",
      "source": [
        "2. Create a 3x3 matrix with values ranging from 0 to 8"
      ],
      "metadata": {
        "id": "WDR_A5IW7vLn"
      }
    },
    {
      "cell_type": "code",
      "source": [
        "matrix_3x3 = np.arange(0, 9).reshape(3, 3)\n",
        "print(matrix_3x3)\n"
      ],
      "metadata": {
        "colab": {
          "base_uri": "https://localhost:8080/"
        },
        "id": "HyEaq2eK7wG7",
        "outputId": "f3b708b4-2b6d-4ef6-ac9d-dc57070df921"
      },
      "execution_count": null,
      "outputs": [
        {
          "output_type": "stream",
          "name": "stdout",
          "text": [
            "[[0 1 2]\n",
            " [3 4 5]\n",
            " [6 7 8]]\n"
          ]
        }
      ]
    },
    {
      "cell_type": "markdown",
      "source": [
        "3. Create a 3x3 identity matrix"
      ],
      "metadata": {
        "id": "DLoOzVk271vq"
      }
    },
    {
      "cell_type": "code",
      "source": [
        "identity_matrix = np.eye(3)\n",
        "print(identity_matrix)\n"
      ],
      "metadata": {
        "colab": {
          "base_uri": "https://localhost:8080/"
        },
        "id": "oqLmMHjX72fS",
        "outputId": "84ebd5da-16a7-45c1-b6e7-001715309655"
      },
      "execution_count": null,
      "outputs": [
        {
          "output_type": "stream",
          "name": "stdout",
          "text": [
            "[[1. 0. 0.]\n",
            " [0. 1. 0.]\n",
            " [0. 0. 1.]]\n"
          ]
        }
      ]
    },
    {
      "cell_type": "markdown",
      "source": [
        "4. Create a random array of size 30 and find the mean of the array"
      ],
      "metadata": {
        "id": "-Ynslzv_79W3"
      }
    },
    {
      "cell_type": "code",
      "source": [
        "4. Create a random array of size 30 and find the mean of the array"
      ],
      "metadata": {
        "id": "Qa1gA9zq7-L2"
      },
      "execution_count": null,
      "outputs": []
    },
    {
      "cell_type": "code",
      "source": [
        "random_array = np.random.random(30)\n",
        "mean_value = random_array.mean()\n",
        "print(\"Mean of the array:\", mean_value)\n"
      ],
      "metadata": {
        "colab": {
          "base_uri": "https://localhost:8080/"
        },
        "id": "5khiXvcZ8EY5",
        "outputId": "779ace6b-0240-49a4-bcc6-b31fce605ac9"
      },
      "execution_count": null,
      "outputs": [
        {
          "output_type": "stream",
          "name": "stdout",
          "text": [
            "Mean of the array: 0.5053773470117106\n"
          ]
        }
      ]
    },
    {
      "cell_type": "markdown",
      "source": [
        "5. Create a 10x10 array with random values and find the minimum and maximum values"
      ],
      "metadata": {
        "id": "kzpKAdJS8HzE"
      }
    },
    {
      "cell_type": "code",
      "source": [
        "random_10x10 = np.random.random((10, 10))\n",
        "min_value = random_10x10.min()\n",
        "max_value = random_10x10.max()\n",
        "print(\"Minimum value:\", min_value)\n",
        "print(\"Maximum value:\", max_value)\n"
      ],
      "metadata": {
        "colab": {
          "base_uri": "https://localhost:8080/"
        },
        "id": "5jgkTKI28KQS",
        "outputId": "2877675a-8802-489d-a1be-da090825faf8"
      },
      "execution_count": null,
      "outputs": [
        {
          "output_type": "stream",
          "name": "stdout",
          "text": [
            "Minimum value: 0.0030637300052482885\n",
            "Maximum value: 0.9877733421601154\n"
          ]
        }
      ]
    },
    {
      "cell_type": "markdown",
      "source": [
        "6. Create a zero array of size 10 and replace the 5th element with 1"
      ],
      "metadata": {
        "id": "LX-xqUYi8P3U"
      }
    },
    {
      "cell_type": "code",
      "source": [
        "zero_array = np.zeros(10)\n",
        "zero_array[4] = 1  # Index 4 corresponds to the 5th element\n",
        "print(zero_array)\n"
      ],
      "metadata": {
        "id": "qiG1-oRg8Qie"
      },
      "execution_count": null,
      "outputs": []
    },
    {
      "cell_type": "markdown",
      "source": [
        "7. Reverse an array arr = [1, 2, 0, 0, 4, 0]"
      ],
      "metadata": {
        "id": "CiSPJy_r8VBZ"
      }
    },
    {
      "cell_type": "code",
      "source": [
        "arr = np.array([1, 2, 0, 0, 4, 0])\n",
        "reversed_arr = arr[::-1]\n",
        "print(reversed_arr)\n"
      ],
      "metadata": {
        "colab": {
          "base_uri": "https://localhost:8080/"
        },
        "id": "PYu2EuYw8Vxh",
        "outputId": "adc5f2f9-b390-4f7a-c9f4-a59b12c8605d"
      },
      "execution_count": null,
      "outputs": [
        {
          "output_type": "stream",
          "name": "stdout",
          "text": [
            "[0 4 0 0 2 1]\n"
          ]
        }
      ]
    },
    {
      "cell_type": "markdown",
      "source": [
        "8. Create a 2D array with 1 on the border and 0 inside"
      ],
      "metadata": {
        "id": "WLc4uOSG8aHr"
      }
    },
    {
      "cell_type": "code",
      "source": [
        "border_array = np.ones((5, 5))  # Creating a 5x5 array\n",
        "border_array[1:-1, 1:-1] = 0  # Setting inner elements to 0\n",
        "print(border_array)\n"
      ],
      "metadata": {
        "colab": {
          "base_uri": "https://localhost:8080/"
        },
        "id": "6X7rHqfq8awy",
        "outputId": "5bbce497-bfbd-4b41-e469-bcb141fec763"
      },
      "execution_count": null,
      "outputs": [
        {
          "output_type": "stream",
          "name": "stdout",
          "text": [
            "[[1. 1. 1. 1. 1.]\n",
            " [1. 0. 0. 0. 1.]\n",
            " [1. 0. 0. 0. 1.]\n",
            " [1. 0. 0. 0. 1.]\n",
            " [1. 1. 1. 1. 1.]]\n"
          ]
        }
      ]
    },
    {
      "cell_type": "markdown",
      "source": [
        "9. Create an 8x8 matrix and fill it with a checkerboard pattern"
      ],
      "metadata": {
        "id": "mlKvI5Q38dUn"
      }
    },
    {
      "cell_type": "code",
      "source": [
        "checkerboard = np.zeros((8, 8))\n",
        "checkerboard[1::2, ::2] = 1  # Fill 1s in even rows\n",
        "checkerboard[::2, 1::2] = 1  # Fill 1s in odd rows\n",
        "print(checkerboard)\n"
      ],
      "metadata": {
        "colab": {
          "base_uri": "https://localhost:8080/"
        },
        "id": "x6ygVvYJ8hwq",
        "outputId": "2e085d20-b4b9-4302-cc5a-2aa5459121d8"
      },
      "execution_count": null,
      "outputs": [
        {
          "output_type": "stream",
          "name": "stdout",
          "text": [
            "[[0. 1. 0. 1. 0. 1. 0. 1.]\n",
            " [1. 0. 1. 0. 1. 0. 1. 0.]\n",
            " [0. 1. 0. 1. 0. 1. 0. 1.]\n",
            " [1. 0. 1. 0. 1. 0. 1. 0.]\n",
            " [0. 1. 0. 1. 0. 1. 0. 1.]\n",
            " [1. 0. 1. 0. 1. 0. 1. 0.]\n",
            " [0. 1. 0. 1. 0. 1. 0. 1.]\n",
            " [1. 0. 1. 0. 1. 0. 1. 0.]]\n"
          ]
        }
      ]
    },
    {
      "cell_type": "markdown",
      "source": [
        "Problem - 3: Array Operations:\n",
        "For the following arrays:\n",
        "x = np.array([[1,2],[3,5]]) and y = np.array([[5,6],[7,8]]);\n",
        "v = np.array([9,10]) and w = np.array([11,12]);\n",
        "Complete all the task using numpy:\n",
        "1. Add the two array."
      ],
      "metadata": {
        "id": "IM5htqJr80g7"
      }
    },
    {
      "cell_type": "code",
      "source": [
        "import numpy as np\n",
        "\n",
        "x = np.array([[1, 2], [3, 5]])\n",
        "y = np.array([[5, 6], [7, 8]])\n",
        "v = np.array([9, 10])\n",
        "w = np.array([11, 12])\n"
      ],
      "metadata": {
        "id": "EWbWMhNL81VT"
      },
      "execution_count": null,
      "outputs": []
    },
    {
      "cell_type": "markdown",
      "source": [
        "1. Add the two arrays"
      ],
      "metadata": {
        "id": "v7EkBTR_86Ur"
      }
    },
    {
      "cell_type": "code",
      "source": [
        "addition_result = x + y\n",
        "print(\"Addition:\\n\", addition_result)\n"
      ],
      "metadata": {
        "colab": {
          "base_uri": "https://localhost:8080/"
        },
        "id": "ysr4yMtd887h",
        "outputId": "b68d1032-1ad9-4b5a-fa13-1e086e404da6"
      },
      "execution_count": null,
      "outputs": [
        {
          "output_type": "stream",
          "name": "stdout",
          "text": [
            "Addition:\n",
            " [[ 6  8]\n",
            " [10 13]]\n"
          ]
        }
      ]
    },
    {
      "cell_type": "markdown",
      "source": [
        "2. Subtract the two arrays"
      ],
      "metadata": {
        "id": "i73mLH_79COE"
      }
    },
    {
      "cell_type": "code",
      "source": [
        "subtraction_result = x - y\n",
        "print(\"Subtraction:\\n\", subtraction_result)\n"
      ],
      "metadata": {
        "colab": {
          "base_uri": "https://localhost:8080/"
        },
        "id": "bHcxgOWc9DP6",
        "outputId": "40c2f008-a3a9-42a2-f7f4-ed19fa3b0396"
      },
      "execution_count": null,
      "outputs": [
        {
          "output_type": "stream",
          "name": "stdout",
          "text": [
            "Subtraction:\n",
            " [[-4 -4]\n",
            " [-4 -3]]\n"
          ]
        }
      ]
    },
    {
      "cell_type": "markdown",
      "source": [
        "3. Multiply the array with any integers of your choice"
      ],
      "metadata": {
        "id": "fvpZIvVz9JXy"
      }
    },
    {
      "cell_type": "code",
      "source": [
        "multiplication_result = x * 2  # Multiplying by 2\n",
        "print(\"Multiplication by 2:\\n\", multiplication_result)\n"
      ],
      "metadata": {
        "colab": {
          "base_uri": "https://localhost:8080/"
        },
        "id": "Lkr3b9R_9KC9",
        "outputId": "08a54043-906c-4ad5-ee59-9a6f89cac592"
      },
      "execution_count": null,
      "outputs": [
        {
          "output_type": "stream",
          "name": "stdout",
          "text": [
            "Multiplication by 2:\n",
            " [[ 2  4]\n",
            " [ 6 10]]\n"
          ]
        }
      ]
    },
    {
      "cell_type": "markdown",
      "source": [
        "4. Find the square of each element of the array"
      ],
      "metadata": {
        "id": "oVtpWHn79RN8"
      }
    },
    {
      "cell_type": "code",
      "source": [
        "squared_result = np.square(x)\n",
        "print(\"Square of each element:\\n\", squared_result)\n"
      ],
      "metadata": {
        "colab": {
          "base_uri": "https://localhost:8080/"
        },
        "id": "BMf8k4Pb9SAb",
        "outputId": "120ba190-aa33-4e5d-b839-32913b968f38"
      },
      "execution_count": null,
      "outputs": [
        {
          "output_type": "stream",
          "name": "stdout",
          "text": [
            "Square of each element:\n",
            " [[ 1  4]\n",
            " [ 9 25]]\n"
          ]
        }
      ]
    },
    {
      "cell_type": "markdown",
      "source": [
        "5. Find the dot product"
      ],
      "metadata": {
        "id": "M8IuY5029Yc6"
      }
    },
    {
      "cell_type": "code",
      "source": [
        "dot_product_vw = np.dot(v, w)  # Dot product of v and w\n",
        "dot_product_xv = np.dot(x, v)  # Dot product of x and v\n",
        "dot_product_xy = np.dot(x, y)  # Dot product of x and y\n",
        "\n",
        "print(\"Dot product v and w:\", dot_product_vw)\n",
        "print(\"Dot product x and v:\\n\", dot_product_xv)\n",
        "print(\"Dot product x and y:\\n\", dot_product_xy)\n"
      ],
      "metadata": {
        "colab": {
          "base_uri": "https://localhost:8080/"
        },
        "id": "P2fYxrXx9ZLh",
        "outputId": "fe9e6c7b-76d2-46ba-eb20-75d389ab9522"
      },
      "execution_count": null,
      "outputs": [
        {
          "output_type": "stream",
          "name": "stdout",
          "text": [
            "Dot product v and w: 219\n",
            "Dot product x and v:\n",
            " [29 77]\n",
            "Dot product x and y:\n",
            " [[19 22]\n",
            " [50 58]]\n"
          ]
        }
      ]
    },
    {
      "cell_type": "markdown",
      "source": [
        "6. Concatenate x and y along row and v and w along column"
      ],
      "metadata": {
        "id": "wxW_GPXM9fWr"
      }
    },
    {
      "cell_type": "code",
      "source": [
        "concatenated_xy_row = np.concatenate((x, y), axis=0)  # Concatenate along rows\n",
        "concatenated_vw_column = np.concatenate((v.reshape(-1, 1), w.reshape(-1, 1)), axis=1)  # Reshape and concatenate along columns\n",
        "\n",
        "print(\"Concatenated x and y along rows:\\n\", concatenated_xy_row)\n",
        "print(\"Concatenated v and w along columns:\\n\", concatenated_vw_column)\n"
      ],
      "metadata": {
        "colab": {
          "base_uri": "https://localhost:8080/"
        },
        "id": "9lIjSnkm9gHD",
        "outputId": "e7e14b0f-acba-4851-e67c-c4654535b038"
      },
      "execution_count": null,
      "outputs": [
        {
          "output_type": "stream",
          "name": "stdout",
          "text": [
            "Concatenated x and y along rows:\n",
            " [[1 2]\n",
            " [3 5]\n",
            " [5 6]\n",
            " [7 8]]\n",
            "Concatenated v and w along columns:\n",
            " [[ 9 11]\n",
            " [10 12]]\n"
          ]
        }
      ]
    },
    {
      "cell_type": "markdown",
      "source": [
        "7. Concatenate x and v; if you get an error, observe and explain why you got the error"
      ],
      "metadata": {
        "id": "iGrYTWUp9lcd"
      }
    },
    {
      "cell_type": "code",
      "source": [
        "try:\n",
        "    concatenated_xv = np.concatenate((x, v.reshape(1, -1)), axis=0)  # Attempt to concatenate\n",
        "except ValueError as e:\n",
        "    print(\"Error:\", e)\n"
      ],
      "metadata": {
        "id": "NW0OCeDj9oRc"
      },
      "execution_count": null,
      "outputs": []
    },
    {
      "cell_type": "markdown",
      "source": [
        "Problem - 4: Matrix Operations:\n",
        "• For the following arrays:\n",
        "A = np.array([[3,4],[7,8]]) and B = np.array([[5,3],[2,1]]);\n",
        "Prove following with Numpy:\n",
        "1. Prove A.A−1 = I.\n",
        "2. Prove AB ̸= BA.\n",
        "3. Prove (AB)\n",
        "\n",
        "T = BTAT\n",
        ".\n",
        "\n",
        "• Solve the following system of Linear equation using Inverse Methods.\n",
        "\n",
        "2x − 3y + z = −1\n",
        "x − y + 2z = −3\n",
        "3x + y − z = 9\n",
        "\n",
        "{Hint: First use Numpy array to represent the equation in Matrix form. Then Solve for: AX = B}\n",
        "• Now: solve the above equation using np.linalg.inv function.{Explore more about ”linalg” function\n",
        "of Numpy}"
      ],
      "metadata": {
        "id": "kRNDqzAM98iG"
      }
    },
    {
      "cell_type": "code",
      "source": [
        "import numpy as np\n",
        "\n",
        "# Given matrices\n",
        "A = np.array([[3, 4], [7, 8]])\n",
        "B = np.array([[5, 3], [2, 1]])\n",
        "\n",
        "# 1. Prove A * A_inv = I\n",
        "A_inv = np.linalg.inv(A)\n",
        "identity_matrix = np.dot(A, A_inv)\n",
        "print(\"A * A_inv:\\n\", identity_matrix)\n",
        "\n",
        "# 2. Prove AB ≠ BA\n",
        "AB = np.dot(A, B)\n",
        "BA = np.dot(B, A)\n",
        "print(\"AB:\\n\", AB)\n",
        "print(\"BA:\\n\", BA)\n",
        "are_equal = np.array_equal(AB, BA)\n",
        "print(\"AB equals BA:\", are_equal)\n",
        "\n",
        "# 3. Prove (AB)^T = B^T A^T\n",
        "AB_transpose = np.transpose(AB)\n",
        "BT_AT = np.dot(np.transpose(B), np.transpose(A))\n",
        "print(\"Transpose of AB:\\n\", AB_transpose)\n",
        "print(\"B^T * A^T:\\n\", BT_AT)\n",
        "is_transpose_equal = np.array_equal(AB_transpose, BT_AT)\n",
        "print(\"Transpose of AB equals B^T * A^T:\", is_transpose_equal)\n",
        "\n",
        "# Solve the system of linear equations\n",
        "A_coeff = np.array([[2, -3, 1],\n",
        "                    [1, -1, 2],\n",
        "                    [3, 1, -1]])\n",
        "B_const = np.array([-1, -3, 9])\n",
        "\n",
        "# Solve for X using Inverse Method\n",
        "X = np.linalg.inv(A_coeff).dot(B_const)\n",
        "print(\"Solution using Inverse Method:\\n\", X)\n"
      ],
      "metadata": {
        "colab": {
          "base_uri": "https://localhost:8080/"
        },
        "id": "MlwDIWYM98v6",
        "outputId": "ea61ea5c-f792-4f47-c33c-e2af27f03c3a"
      },
      "execution_count": null,
      "outputs": [
        {
          "output_type": "stream",
          "name": "stdout",
          "text": [
            "A * A_inv:\n",
            " [[1.00000000e+00 0.00000000e+00]\n",
            " [1.77635684e-15 1.00000000e+00]]\n",
            "AB:\n",
            " [[23 13]\n",
            " [51 29]]\n",
            "BA:\n",
            " [[36 44]\n",
            " [13 16]]\n",
            "AB equals BA: False\n",
            "Transpose of AB:\n",
            " [[23 51]\n",
            " [13 29]]\n",
            "B^T * A^T:\n",
            " [[23 51]\n",
            " [13 29]]\n",
            "Transpose of AB equals B^T * A^T: True\n",
            "Solution using Inverse Method:\n",
            " [ 2.  1. -2.]\n"
          ]
        }
      ]
    }
  ]
}