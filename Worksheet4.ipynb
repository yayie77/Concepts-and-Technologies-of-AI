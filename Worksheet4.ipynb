{
  "nbformat": 4,
  "nbformat_minor": 0,
  "metadata": {
    "colab": {
      "provenance": [],
      "toc_visible": true,
      "include_colab_link": true
    },
    "kernelspec": {
      "name": "python3",
      "display_name": "Python 3"
    },
    "language_info": {
      "name": "python"
    }
  },
  "cells": [
    {
      "cell_type": "markdown",
      "metadata": {
        "id": "view-in-github",
        "colab_type": "text"
      },
      "source": [
        "<a href=\"https://colab.research.google.com/github/yayie77/Concepts-and-Technologies-of-AI/blob/main/Worksheet4.ipynb\" target=\"_parent\"><img src=\"https://colab.research.google.com/assets/colab-badge.svg\" alt=\"Open In Colab\"/></a>"
      ]
    },
    {
      "cell_type": "code",
      "source": [
        "from google.colab import drive\n",
        "drive.mount('/content/drive')"
      ],
      "metadata": {
        "colab": {
          "base_uri": "https://localhost:8080/"
        },
        "id": "kiGE4pYlcr2t",
        "outputId": "b1cfe4fb-bba6-4b50-95b3-2d0779fd2c48"
      },
      "execution_count": null,
      "outputs": [
        {
          "output_type": "stream",
          "name": "stdout",
          "text": [
            "Mounted at /content/drive\n"
          ]
        }
      ]
    },
    {
      "cell_type": "code",
      "source": [
        "import pandas as pd\n",
        "import numpy as np\n",
        "import sklearn\n",
        "import matplotlib.pyplot as plt\n",
        "import time"
      ],
      "metadata": {
        "id": "Yw7kL3K1d1FP"
      },
      "execution_count": null,
      "outputs": []
    },
    {
      "cell_type": "markdown",
      "source": [
        "##Problem - 1: Perform a classification task with knn from scratch.\n"
      ],
      "metadata": {
        "id": "m4aoSAcWcX2A"
      }
    },
    {
      "cell_type": "markdown",
      "source": [
        "###1. Load the Dataset:"
      ],
      "metadata": {
        "id": "XO9mskcDhTx3"
      }
    },
    {
      "cell_type": "markdown",
      "source": [
        "• Read the dataset into a pandas DataFrame.\n",
        "\n",
        "• Display the first few rows and perform exploratory data analysis (EDA) to understand the dataset\n",
        "(e.g., check data types, missing values, summary statistics)."
      ],
      "metadata": {
        "id": "Pxm0jFqthZaA"
      }
    },
    {
      "cell_type": "code",
      "source": [
        "df=pd.read_csv(\"/content/drive/MyDrive/Intoduction to AI and Technologies/Week4/Copy of diabetes.csv\")\n",
        "df.head()\n",
        "# Checking data types\n",
        "df.dtypes\n",
        "# Listing columns\n",
        "df.columns\n",
        "# Missing values\n",
        "missing_val= df.isnull().sum()/len(df)*100\n",
        "missing_val\n",
        "# Summary statistics\n",
        "print(f\"\\nSummary Statistics for Numerical Columns: \")\n",
        "print(df.describe())\n",
        "\n",
        "categorical_cols = df.select_dtypes(include=['object']).columns\n",
        "if len(categorical_cols) > 0:\n",
        "    print(f\"\\nSummary Statistics for Categorical Columns: \")\n",
        "    print(df[categorical_cols].describe())\n",
        "else:\n",
        "    print(\"\\nNo categorical columns found in the dataset.\")\n",
        "\n"
      ],
      "metadata": {
        "id": "8f8hopS4cdj8",
        "colab": {
          "base_uri": "https://localhost:8080/",
          "height": 211
        },
        "outputId": "b16dc123-81c9-4a8c-ffbe-438f3f4a4731"
      },
      "execution_count": 1,
      "outputs": [
        {
          "output_type": "error",
          "ename": "NameError",
          "evalue": "name 'pd' is not defined",
          "traceback": [
            "\u001b[0;31m---------------------------------------------------------------------------\u001b[0m",
            "\u001b[0;31mNameError\u001b[0m                                 Traceback (most recent call last)",
            "\u001b[0;32m<ipython-input-1-2908f6b55d3f>\u001b[0m in \u001b[0;36m<cell line: 1>\u001b[0;34m()\u001b[0m\n\u001b[0;32m----> 1\u001b[0;31m \u001b[0mdf\u001b[0m\u001b[0;34m=\u001b[0m\u001b[0mpd\u001b[0m\u001b[0;34m.\u001b[0m\u001b[0mread_csv\u001b[0m\u001b[0;34m(\u001b[0m\u001b[0;34m\"/content/drive/MyDrive/Intoduction to AI and Technologies/Week4/Copy of diabetes.csv\"\u001b[0m\u001b[0;34m)\u001b[0m\u001b[0;34m\u001b[0m\u001b[0;34m\u001b[0m\u001b[0m\n\u001b[0m\u001b[1;32m      2\u001b[0m \u001b[0mdf\u001b[0m\u001b[0;34m.\u001b[0m\u001b[0mhead\u001b[0m\u001b[0;34m(\u001b[0m\u001b[0;34m)\u001b[0m\u001b[0;34m\u001b[0m\u001b[0;34m\u001b[0m\u001b[0m\n\u001b[1;32m      3\u001b[0m \u001b[0;31m# Checking data types\u001b[0m\u001b[0;34m\u001b[0m\u001b[0;34m\u001b[0m\u001b[0m\n\u001b[1;32m      4\u001b[0m \u001b[0mdf\u001b[0m\u001b[0;34m.\u001b[0m\u001b[0mdtypes\u001b[0m\u001b[0;34m\u001b[0m\u001b[0;34m\u001b[0m\u001b[0m\n\u001b[1;32m      5\u001b[0m \u001b[0;31m# Listing columns\u001b[0m\u001b[0;34m\u001b[0m\u001b[0;34m\u001b[0m\u001b[0m\n",
            "\u001b[0;31mNameError\u001b[0m: name 'pd' is not defined"
          ]
        }
      ]
    },
    {
      "cell_type": "markdown",
      "source": [
        "###2. Handle Missing Data:"
      ],
      "metadata": {
        "id": "GhRnFctFkalt"
      }
    },
    {
      "cell_type": "markdown",
      "source": [
        "• Handle any missing values appropriately, either by dropping or imputing them based on the data."
      ],
      "metadata": {
        "id": "mkJ8YkJxkexp"
      }
    },
    {
      "cell_type": "code",
      "source": [
        "#Handle missing values\n",
        "for column in df.columns:\n",
        "  if missing_val[column]>10:\n",
        "    df[column].fillna(df[column].mean(),inplace=True)\n",
        "  else:\n",
        "    df.dropna(subset=[column],inplace=True)\n",
        "\n",
        "# Displaying handled datas\n",
        "print(f\"\\nMisiing values after handling values\", df.isnull().sum())\n"
      ],
      "metadata": {
        "colab": {
          "base_uri": "https://localhost:8080/"
        },
        "id": "yE0Ssikqkh1e",
        "outputId": "8cb8799a-4fec-46a5-cfe0-3bf1f15c73c2"
      },
      "execution_count": null,
      "outputs": [
        {
          "output_type": "stream",
          "name": "stdout",
          "text": [
            "\n",
            "Misiing values after handling values Pregnancies                 0\n",
            "Glucose                     0\n",
            "BloodPressure               0\n",
            "SkinThickness               0\n",
            "Insulin                     0\n",
            "BMI                         0\n",
            "DiabetesPedigreeFunction    0\n",
            "Age                         0\n",
            "Outcome                     0\n",
            "dtype: int64\n"
          ]
        }
      ]
    },
    {
      "cell_type": "markdown",
      "source": [
        "###3. Feature Engineering:"
      ],
      "metadata": {
        "id": "9KH_TcBso-Md"
      }
    },
    {
      "cell_type": "markdown",
      "source": [
        "• Separate the feature matrix (X) and target variable (y).\n",
        "\n",
        "• Perform a train - test split from scratch using a 70% − 30% ratio."
      ],
      "metadata": {
        "id": "cI-P8F1UpASB"
      }
    },
    {
      "cell_type": "code",
      "source": [
        "# Seperating X and Y\n",
        "x = df.drop(columns=['Outcome']).values\n",
        "y = df['Outcome'].values\n",
        "# Defining function for train_test split from scratch\n",
        "def train_test_split_scratch(x,y, test_size=0.3, random_seed=42):\n",
        "  np.random.seed(random_seed)\n",
        "  indices = np.arange(x.shape[0])\n",
        "  np.random.shuffle(indices)\n",
        "\n",
        "  test_split_size=int(x.shape[0]*test_size)\n",
        "  test_indices=indices[:test_split_size]\n",
        "  train_indices=indices[test_split_size:]\n",
        "\n",
        "  x_train=x[train_indices]\n",
        "  y_train=y[train_indices]\n",
        "  x_test=x[test_indices]\n",
        "  y_test=y[test_indices]\n",
        "  return x_train, x_test, y_train, y_test\n",
        "# Perform test-train split\n",
        "x_train, x_test, y_train, y_test = train_test_split_scratch(x, y, test_size=0.3)\n",
        "# Output\n",
        "print(f\"Shape of X_train: {x_train.shape}\")\n",
        "print(f\"Shape of X_test: {x_test.shape}\")\n",
        "print(f\"Shape of Y_train: {y_train.shape}\")\n",
        "print(f\"Shape of Y_test: {y_test.shape}\")\n"
      ],
      "metadata": {
        "colab": {
          "base_uri": "https://localhost:8080/"
        },
        "id": "mSEQWVFLpDsy",
        "outputId": "08d4c6c1-36f9-454d-c20f-8624d0b61e1d"
      },
      "execution_count": null,
      "outputs": [
        {
          "output_type": "stream",
          "name": "stdout",
          "text": [
            "Shape of X_train: (538, 8)\n",
            "Shape of X_test: (230, 8)\n",
            "Shape of Y_train: (538,)\n",
            "Shape of Y_test: (230,)\n"
          ]
        }
      ]
    },
    {
      "cell_type": "markdown",
      "source": [
        "###4. Implement KNN:"
      ],
      "metadata": {
        "id": "7PeH1zK8rnRE"
      }
    },
    {
      "cell_type": "markdown",
      "source": [
        "• Build the KNN algorithm from scratch (no libraries like sickit-learn for KNN).\n",
        "\n",
        "• Compute distances using Euclidean distance.\n",
        "\n",
        "• Write functions for:\n",
        "\n",
        "– Predicting the class for a single query.\n",
        "– Predicting classes for all test samples.\n",
        "\n",
        "• Evaluate the performance using accuracy."
      ],
      "metadata": {
        "id": "_RfXj7-_rrBn"
      }
    },
    {
      "cell_type": "code",
      "source": [
        "# Computing Euclidean Distance Mectris\n",
        "def euclidean_distance(point1, point2):\n",
        "  if point1.shape != point2.shape:\n",
        "    raise ValueError(\"Points must have the same dimensions to calculate Euclidean distance\")\n",
        "  distance = np.sqrt(np.sum((point1 - point2) ** 2))\n",
        "  return distance"
      ],
      "metadata": {
        "id": "Q-1iC9Bgrwy-"
      },
      "execution_count": null,
      "outputs": []
    },
    {
      "cell_type": "code",
      "source": [
        "# Predict class lable for single query\n",
        "# Function for kNN prediction for a single query\n",
        "\n",
        "def knn_predict_single(query, x_train, y_train, k=3):\n",
        "  distances = [euclidean_distance(query, x)for x in x_train]\n",
        "  sorted_indices = np.argsort(distances)\n",
        "  nearest_indices = sorted_indices[:k]\n",
        "  nearest_labels = y_train[nearest_indices]\n",
        "  prediction = np.bincount(nearest_labels).argmax()\n",
        "  return prediction\n",
        "\n",
        "# Function to text KNN for all test samples\n",
        "\n",
        "def knn_predict(x_test, x_train, y_train, k=3):\n",
        "  predictions = [knn_predict_single(x, x_train, y_train, k)for x in x_test]\n",
        "  return np.array(predictions)"
      ],
      "metadata": {
        "id": "IuRcIZF6wmX2"
      },
      "execution_count": null,
      "outputs": []
    },
    {
      "cell_type": "code",
      "source": [
        "# Computing Accracy\n",
        "\n",
        "def compute_accuracy(y_true, y_pred):\n",
        "  correct_predictions = np.sum(y_true == y_pred)\n",
        "  total_predictions = len(y_true)\n",
        "  accuracy = (correct_predictions / total_predictions) * 100\n",
        "  return accuracy\n",
        "  # Perform prediction on entire test\n",
        "try:\n",
        "  predictions = knn_predict(x_test, x_train, y_train, k=3)\n",
        "  accuracy = compute_accuracy(y_test, predictions)\n",
        "  print(f\"Accuracy: {accuracy: .2f}%\")\n",
        "except Exception as e:\n",
        "  print(f\"An error occured: {e}\")"
      ],
      "metadata": {
        "colab": {
          "base_uri": "https://localhost:8080/"
        },
        "id": "x7ZSwrsi_qMI",
        "outputId": "1d3364d1-6fe4-4c3e-9e1a-530a3196ee5e"
      },
      "execution_count": null,
      "outputs": [
        {
          "output_type": "stream",
          "name": "stdout",
          "text": [
            "Accuracy:  67.39%\n"
          ]
        }
      ]
    },
    {
      "cell_type": "markdown",
      "source": [
        "#Problem - 2 - Experimentation:"
      ],
      "metadata": {
        "id": "5H8_yIwWAKwT"
      }
    },
    {
      "cell_type": "markdown",
      "source": [
        "### 1. Repeat the Classification Task:"
      ],
      "metadata": {
        "id": "w2j6Kvs8ATsw"
      }
    },
    {
      "cell_type": "markdown",
      "source": [
        "• Scale the Feature matrix X.\n",
        "\n",
        "• Use the scaled data for training and testing the kNN Classifier.\n",
        "\n",
        "• Record the results."
      ],
      "metadata": {
        "id": "M-1dY052AY6R"
      }
    },
    {
      "cell_type": "code",
      "source": [
        "\n",
        "from sklearn.preprocessing import StandardScaler\n",
        "scaler = StandardScaler()\n",
        "x_train = scaler.fit_transform(x_train)\n",
        "x_test = scaler.transform(x_test)\n",
        "\n",
        "# Perform prediction on the scaled test data\n",
        "try:\n",
        "    predictions = knn_predict(x_test, x_train, y_train, k=3)\n",
        "    accuracy = compute_accuracy(y_test, predictions)\n",
        "    print(f\"Accuracy after scaling: {accuracy:.2f}%\")\n",
        "except Exception as e:\n",
        "    print(f\"An error occurred: {e}\")\n"
      ],
      "metadata": {
        "colab": {
          "base_uri": "https://localhost:8080/"
        },
        "id": "L87pooRXAcba",
        "outputId": "1c6ce6f3-a9b2-4bbc-9a0f-92bdb1bcfc5b"
      },
      "execution_count": null,
      "outputs": [
        {
          "output_type": "stream",
          "name": "stdout",
          "text": [
            "Accuracy after scaling: 70.87%\n"
          ]
        }
      ]
    },
    {
      "cell_type": "code",
      "source": [
        "def scale_data(x):\n",
        "    mean = np.mean(x, axis=0)\n",
        "    std = np.std(x, axis=0)\n",
        "\n",
        "    x_scaled = (x - mean) / std\n",
        "    return x_scaled\n",
        "\n",
        "x_test_scaled = scale_data(x_test)\n",
        "x_train_scaled = scale_data(x_train)\n",
        "predictions = knn_predict(x_test_scaled, x_train_scaled, y_train, k=3)\n",
        "accuracy = compute_accuracy(y_test, predictions)\n",
        "print(f\"Accuracy of the KNN model on the test set: {accuracy:.2f}%\")"
      ],
      "metadata": {
        "colab": {
          "base_uri": "https://localhost:8080/"
        },
        "id": "UU6Dz-_adtT7",
        "outputId": "35e2de38-29fc-4053-e32d-783244ecf0c4"
      },
      "execution_count": null,
      "outputs": [
        {
          "output_type": "stream",
          "name": "stdout",
          "text": [
            "Accuracy of the KNN model on the test set: 71.30%\n"
          ]
        }
      ]
    },
    {
      "cell_type": "markdown",
      "source": [
        "###2. Comparative Analysis: Compare the Results -"
      ],
      "metadata": {
        "id": "RPNpMP7KBDic"
      }
    },
    {
      "cell_type": "markdown",
      "source": [
        "• Compare the accuracy and performance of the kNN model on the original dataset from problem 1\n",
        "versus the scaled dataset.\n"
      ],
      "metadata": {
        "id": "4-mQ6OlJBGeY"
      }
    },
    {
      "cell_type": "markdown",
      "source": [
        "• Discuss:\n",
        "\n",
        "– How scaling impacted the KNN performance.\n",
        "\n",
        "ans:\n",
        "\n",
        "\n",
        "– The reason for any observed changes in accuracy:\n",
        "\n",
        "1.Distance Metric Sensitivity\n",
        "\n",
        "2.Improved Generalization for k=3\n",
        "\n",
        "3.Feature contribution equality"
      ],
      "metadata": {
        "id": "q6NNlVw_Zhe6"
      }
    },
    {
      "cell_type": "markdown",
      "source": [
        "#Problem - 3 - Experimentation with k:"
      ],
      "metadata": {
        "id": "MAvZ2K8Xab24"
      }
    },
    {
      "cell_type": "markdown",
      "source": [
        "**1. Vary the number of neighbors - k:**\n",
        "\n",
        "• Run the KNN model on both the original and scaled datasets for a range of:\n",
        "\n",
        "k= 1, 2, 3, . . . 15\n",
        "\n",
        "\n",
        "• For each k, record:\n",
        "\n",
        "– Accuracy.\n",
        "\n",
        "– Time taken to make predictions.\n",
        "\n",
        "\n",
        "\n",
        "**2. Visualize the Results:**\n",
        "\n",
        "• Plot the following graphs:\n",
        "\n",
        "– k vs. Accuracy for original and scaled datasets.\n",
        "\n",
        "– k vs. Time Taken for original and scaled datasets.\n",
        "\n",
        "\n",
        "\n",
        "**3. Analyze and Discuss:**\n",
        "\n",
        "• Discuss how the choice of k affects the accuracy and computational cost.\n",
        "\n",
        "• Identify the optimal k based on your analysis."
      ],
      "metadata": {
        "id": "f7XOqY7HanCp"
      }
    },
    {
      "cell_type": "code",
      "source": [
        "# Function to test KNN on different values of k and plot the accuracies\n",
        "def experiment_knn_k_values(x_train, y_train, x_test, y_test, k_values):\n",
        "    original_accuracies = []\n",
        "    scaled_accuracies = []\n",
        "    original_times = []\n",
        "    scaled_times = []\n",
        "\n",
        "    for k in k_values:\n",
        "        start_time = time.time()\n",
        "        predictions_original = knn_predict(x_test, x_train, y_train, k)\n",
        "        original_time = time.time() - start_time\n",
        "        original_accuracy = compute_accuracy(y_test, predictions_original)\n",
        "\n",
        "        x_train_scaled = scale_data(x_train)\n",
        "        x_test_scaled = scale_data(x_test)\n",
        "        start_time = time.time()\n",
        "        predictions_scaled = knn_predict(x_test_scaled, x_train_scaled, y_train, k)\n",
        "        scaled_time = time.time() - start_time\n",
        "        scaled_accuracy = compute_accuracy(y_test, predictions_scaled)\n",
        "\n",
        "        original_accuracies.append(original_accuracy)\n",
        "        scaled_accuracies.append(scaled_accuracy)\n",
        "        original_times.append(original_time)\n",
        "        scaled_times.append(scaled_time)\n",
        "\n",
        "        print(f\"Accuracy for k={k} (Original Data): {original_accuracy:.2f}%\")\n",
        "        print(f\"Oringal Time: : {original_time}\")\n",
        "        print(f\"Accuracy for k={k} (Scaled Data): {scaled_accuracy:.2f}%\")\n",
        "        print(f\"Scaled Time: : {scaled_time}\")\n",
        "\n",
        "    # Accuracy Plot\n",
        "    plt.subplot(1, 2, 1)\n",
        "    plt.plot(k_values, original_accuracies, label='Original Data', marker='o')\n",
        "    plt.plot(k_values, scaled_accuracies, label='Scaled Data', marker='o')\n",
        "    plt.title('k vs Accuracy')\n",
        "    plt.xlabel('k (Number of Neighbors)')\n",
        "    plt.ylabel('Accuracy (%)')\n",
        "    plt.legend()\n",
        "\n",
        "    # Time Plot\n",
        "    plt.subplot(1, 2, 2)\n",
        "    plt.plot(k_values, original_times, label='Original Data', marker='o')\n",
        "    plt.plot(k_values, scaled_times, label='Scaled Data', marker='o')\n",
        "    plt.title('k vs Time Taken')\n",
        "    plt.xlabel('k (Number of Neighbors)')\n",
        "    plt.ylabel('Time Taken (seconds)')\n",
        "    plt.legend()\n",
        "\n",
        "    return original_accuracies, scaled_accuracies\n",
        "\n",
        "# Define the range of k values to experiment with\n",
        "k_values = range(1, 15)  # You can adjust this range as needed\n",
        "\n",
        "# Run the experiment\n",
        "try:\n",
        "    original_accuracies, scaled_accuracies = experiment_knn_k_values(x_train, y_train, x_test, y_test, k_values)\n",
        "    print(\"Experiment completed. Check the plot for the accuracy trend.\")\n",
        "except Exception as e:\n",
        "    print(f\"An unexpected error occurred during the experiment: {e}\")"
      ],
      "metadata": {
        "colab": {
          "base_uri": "https://localhost:8080/",
          "height": 1000
        },
        "id": "AjZfunw5aajE",
        "outputId": "053576ba-48bc-4584-ed1b-80bc618efccb"
      },
      "execution_count": null,
      "outputs": [
        {
          "output_type": "stream",
          "name": "stdout",
          "text": [
            "Accuracy for k=1 (Original Data): 63.48%\n",
            "Oringal Time: : 1.4999916553497314\n",
            "Accuracy for k=1 (Scaled Data): 62.61%\n",
            "Scaled Time: : 0.8057899475097656\n",
            "Accuracy for k=2 (Original Data): 66.09%\n",
            "Oringal Time: : 0.8275444507598877\n",
            "Accuracy for k=2 (Scaled Data): 68.70%\n",
            "Scaled Time: : 0.7996375560760498\n",
            "Accuracy for k=3 (Original Data): 70.87%\n",
            "Oringal Time: : 0.8145999908447266\n",
            "Accuracy for k=3 (Scaled Data): 71.30%\n",
            "Scaled Time: : 0.8067426681518555\n",
            "Accuracy for k=4 (Original Data): 68.70%\n",
            "Oringal Time: : 0.8219730854034424\n",
            "Accuracy for k=4 (Scaled Data): 69.57%\n",
            "Scaled Time: : 0.8140392303466797\n",
            "Accuracy for k=5 (Original Data): 70.00%\n",
            "Oringal Time: : 0.7980732917785645\n",
            "Accuracy for k=5 (Scaled Data): 71.74%\n",
            "Scaled Time: : 0.854210615158081\n",
            "Accuracy for k=6 (Original Data): 69.13%\n",
            "Oringal Time: : 0.8355216979980469\n",
            "Accuracy for k=6 (Scaled Data): 70.43%\n",
            "Scaled Time: : 0.8165116310119629\n",
            "Accuracy for k=7 (Original Data): 69.57%\n",
            "Oringal Time: : 0.8722734451293945\n",
            "Accuracy for k=7 (Scaled Data): 70.00%\n",
            "Scaled Time: : 1.4443912506103516\n",
            "Accuracy for k=8 (Original Data): 68.70%\n",
            "Oringal Time: : 1.4401750564575195\n",
            "Accuracy for k=8 (Scaled Data): 69.57%\n",
            "Scaled Time: : 1.5130131244659424\n",
            "Accuracy for k=9 (Original Data): 69.57%\n",
            "Oringal Time: : 0.9641115665435791\n",
            "Accuracy for k=9 (Scaled Data): 70.87%\n",
            "Scaled Time: : 0.8024523258209229\n",
            "Accuracy for k=10 (Original Data): 69.57%\n",
            "Oringal Time: : 0.8207967281341553\n",
            "Accuracy for k=10 (Scaled Data): 70.43%\n",
            "Scaled Time: : 0.8436744213104248\n",
            "Accuracy for k=11 (Original Data): 70.87%\n",
            "Oringal Time: : 0.8289642333984375\n",
            "Accuracy for k=11 (Scaled Data): 71.74%\n",
            "Scaled Time: : 0.8132941722869873\n",
            "Accuracy for k=12 (Original Data): 72.17%\n",
            "Oringal Time: : 0.8008177280426025\n",
            "Accuracy for k=12 (Scaled Data): 70.87%\n",
            "Scaled Time: : 0.8107681274414062\n",
            "Accuracy for k=13 (Original Data): 71.30%\n",
            "Oringal Time: : 0.8382399082183838\n",
            "Accuracy for k=13 (Scaled Data): 71.30%\n",
            "Scaled Time: : 0.8303585052490234\n",
            "Accuracy for k=14 (Original Data): 71.30%\n",
            "Oringal Time: : 0.8272595405578613\n",
            "Accuracy for k=14 (Scaled Data): 70.43%\n",
            "Scaled Time: : 0.8043732643127441\n",
            "Experiment completed. Check the plot for the accuracy trend.\n"
          ]
        },
        {
          "output_type": "display_data",
          "data": {
            "text/plain": [
              "<Figure size 640x480 with 2 Axes>"
            ],
            "image/png": "[encoded data removed]"
          },
          "metadata": {}
        }
      ]
    },
    {
      "cell_type": "markdown",
      "source": [
        "Analyze and Discuss:\n",
        "\n",
        "1.Accuracy\n",
        "- For small values for k,the model acheives lower accuracy due to overfitting\n",
        "\n",
        "- For larger values for k , the accuracy stabilize and improves by reducing sensitivity of noise and outliers.\n",
        "\n",
        "- For excessively large k can reduce accuracy because model may over generalizes and might belong to different classes.\n",
        "\n",
        "2.Computation cost:\n",
        "As k increases, the computational cost per query remains relatib=vely constant but in pratice, the observed time show samll fluctuation in the range of ~1.1-1.2, representingk doesnot significantly impact runtime."
      ],
      "metadata": {
        "id": "jkoUy_UrSIHA"
      }
    },
    {
      "cell_type": "markdown",
      "source": [
        "***Problem - 4 - Additional Questions ***\n",
        "\n",
        "{Optional - But Highly Recommended}:\n",
        "\n",
        "• Discuss the challenges of using KNN for large datasets and high-dimensional data.\n",
        "• Suggest strategies to improve the efficiency of KNN (e.g., approximate nearest neighbors, dimensionality\n",
        "reduction)."
      ],
      "metadata": {
        "id": "SSDgbjsXUhJj"
      }
    },
    {
      "cell_type": "markdown",
      "source": [
        "Challenges of using KNN for large dataset and high-simensional data\n",
        "\n",
        "1. Computational Complexity\n",
        "2. Curse of Dimensionality\n",
        "3. Memory Usuage\n",
        "4. Sensitivity to Irrelevant Features\n",
        "5. Scaling Issues\n"
      ],
      "metadata": {
        "id": "2nVJIfnrUmnU"
      }
    },
    {
      "cell_type": "markdown",
      "source": [
        "Strategy to improve effeciency of KNN:\n",
        "\n",
        "1. Approximate Nearest Neighbors (ANN) Algorithm\n",
        "2. Reducing dimension\n",
        "3. Feature Selection\n",
        "4. Data Partitioning\n",
        "5. Parallelization\n",
        "6. Distance Metric Optimization\n",
        "7. Preprocessing for Scalability"
      ],
      "metadata": {
        "id": "RCoHnZo7U85z"
      }
    }
  ]
}